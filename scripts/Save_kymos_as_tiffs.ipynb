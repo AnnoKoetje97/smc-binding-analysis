{
 "cells": [
  {
   "cell_type": "code",
   "execution_count": 1,
   "metadata": {},
   "outputs": [],
   "source": [
    "import os\n",
    "import tifffile\n",
    "import numpy as np\n",
    "from lumicks import pylake"
   ]
  },
  {
   "cell_type": "code",
   "execution_count": 2,
   "metadata": {},
   "outputs": [],
   "source": [
    "def create_output_folder(data_folder):\n",
    "    \"\"\"\n",
    "    Create an output folder if it doesn't exist.\n",
    "\n",
    "    :param data_folder: Path to the data folder.\n",
    "    :param output_folder_name: Name of the output folder.\n",
    "    :return: Path to the output folder.\n",
    "    \"\"\"\n",
    "    output_folder = data_folder\n",
    "    if not os.path.exists(output_folder):\n",
    "        os.mkdir(output_folder)\n",
    "    return output_folder\n",
    "\n",
    "def optimize_brightness_contrast(image, lower_percentile=1, upper_percentile=98):\n",
    "    \"\"\"\n",
    "    Optimize the brightness and contrast of an image using percentiles.\n",
    "\n",
    "    :param image: Input image.\n",
    "    :param lower_percentile: Lower percentile for clipping, default is 1.\n",
    "    :param upper_percentile: Upper percentile for clipping, default is 98.\n",
    "    :return: Image with optimized brightness and contrast.\n",
    "    \"\"\"\n",
    "    minval = np.percentile(image, lower_percentile)\n",
    "    maxval = np.percentile(image, upper_percentile)\n",
    "    image = np.clip(image, minval, maxval)\n",
    "    image = ((image - minval) / (maxval - minval)) * 255\n",
    "    return image.astype(np.uint8)\n",
    "\n",
    "def save_kymographs_as_tiff(data_folder, marker_name):\n",
    "    \"\"\"\n",
    "    Save kymographs as tiff files with optimized brightness and contrast.\n",
    "\n",
    "    :param data_folder: Path to the data folder.\n",
    "    :param marker_name: Marker.h5 file to process.\n",
    "    \"\"\"\n",
    "    output_folder = create_output_folder(f'{data_folder}/tiffs/')\n",
    "    marker = pylake.File(os.path.join(data_folder, marker_name))\n",
    "    \n",
    "    for kymo_ID in marker.kymos:\n",
    "        kymo_duration = marker.kymos[kymo_ID].duration\n",
    "        if kymo_duration < 35: continue\n",
    "        kymo_img = marker.kymos[kymo_ID].get_image(channel='red')\n",
    "        kymo_img = np.round(255 * kymo_img)\n",
    "        kymo_img = optimize_brightness_contrast(kymo_img)\n",
    "        \n",
    "        file_save = f\"{marker_name.removesuffix('.h5')}_kymo_{kymo_ID}.tiff\"\n",
    "        tifffile.imwrite(os.path.join(output_folder, file_save), kymo_img)\n"
   ]
  },
  {
   "cell_type": "code",
   "execution_count": 3,
   "metadata": {},
   "outputs": [],
   "source": [
    "# Define the data folder path and dates to process\n",
    "data_folder = '../test_folder/'\n",
    "marker_name = '20241219-125005 Marker 1.h5'\n",
    "\n",
    "# Save kymographs as tiff files with optimized brightness and contrast\n",
    "save_kymographs_as_tiff(data_folder, marker_name)"
   ]
  },
  {
   "cell_type": "code",
   "execution_count": null,
   "metadata": {},
   "outputs": [],
   "source": []
  }
 ],
 "metadata": {
  "kernelspec": {
   "display_name": "Python 3 (ipykernel)",
   "language": "python",
   "name": "python3"
  },
  "language_info": {
   "codemirror_mode": {
    "name": "ipython",
    "version": 3
   },
   "file_extension": ".py",
   "mimetype": "text/x-python",
   "name": "python",
   "nbconvert_exporter": "python",
   "pygments_lexer": "ipython3",
   "version": "3.10.0"
  }
 },
 "nbformat": 4,
 "nbformat_minor": 4
}
